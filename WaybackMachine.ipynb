{
 "cells": [
  {
   "cell_type": "markdown",
   "metadata": {},
   "source": [
    "# Wayback Machine\n"
   ]
  },
  {
   "cell_type": "markdown",
   "metadata": {},
   "source": [
    "## Setup\n"
   ]
  },
  {
   "cell_type": "code",
   "execution_count": 2,
   "metadata": {},
   "outputs": [],
   "source": [
    "import requests"
   ]
  },
  {
   "cell_type": "markdown",
   "metadata": {},
   "source": [
    "## Utilities\n"
   ]
  },
  {
   "cell_type": "code",
   "execution_count": 4,
   "metadata": {},
   "outputs": [],
   "source": [
    "def fetch_wayback_versions(\n",
    "    url, from_timestamp=\"\", to_timestamp=\"\", max_versions=10, include_content=False\n",
    "):\n",
    "    \"\"\"\n",
    "    Fetch past versions of a URL from the Wayback Machine and optionally the content.\n",
    "\n",
    "    Parameters:\n",
    "    - url (str): The URL to fetch past versions for.\n",
    "    - from_timestamp (str): Start timestamp in format YYYYmmddHHMMSS. Empty means no start limit.\n",
    "    - to_timestamp (str): End timestamp in format YYYYmmddHHMMSS. Empty means no end limit.\n",
    "    - max_versions (int): Maximum number of versions to fetch.\n",
    "    - include_content (bool): Whether to fetch the content of the archived URL.\n",
    "\n",
    "    Returns:\n",
    "    - list of dicts: Each dict contains 'timestamp', 'archive_url', and optionally 'archive_content'.\n",
    "    \"\"\"\n",
    "    base_url = \"http://web.archive.org/cdx/search/cdx\"\n",
    "    params = {\n",
    "        \"url\": url,\n",
    "        \"output\": \"json\",\n",
    "        \"from\": from_timestamp,\n",
    "        \"to\": to_timestamp,\n",
    "        \"limit\": max_versions,\n",
    "    }\n",
    "\n",
    "    try:\n",
    "        response = requests.get(base_url, params=params)\n",
    "        response.raise_for_status()  # Raise an HTTPError if the response was an error\n",
    "        data = response.json()\n",
    "\n",
    "        if not data or len(data) < 2:\n",
    "            return []\n",
    "\n",
    "        versions = []\n",
    "        for item in data[1:]:\n",
    "            version_info = {\n",
    "                \"timestamp\": item[1],\n",
    "                \"archive_url\": f\"https://web.archive.org/web/{item[1]}/{url}\",\n",
    "            }\n",
    "            if include_content:\n",
    "                content_response = requests.get(version_info[\"archive_url\"])\n",
    "                content_response.raise_for_status()  # Raise an HTTPError if the response was an error\n",
    "                version_info[\"archive_content\"] = content_response.text\n",
    "            versions.append(version_info)\n",
    "\n",
    "        return versions\n",
    "    except requests.RequestException as e:\n",
    "        print(f\"Error fetching data from Wayback Machine: {e}\")\n",
    "        return []"
   ]
  },
  {
   "cell_type": "markdown",
   "metadata": {},
   "source": [
    "## Main\n"
   ]
  },
  {
   "cell_type": "code",
   "execution_count": 5,
   "metadata": {},
   "outputs": [
    {
     "name": "stdout",
     "output_type": "stream",
     "text": [
      "{'timestamp': '20050209094655', 'archive_url': 'https://web.archive.org/web/20050209094655/http://rss.cnn.com/rss/cnn_latest.rss'}\n",
      "{'timestamp': '20050209094655', 'archive_url': 'https://web.archive.org/web/20050209094655/http://rss.cnn.com/rss/cnn_latest.rss'}\n",
      "{'timestamp': '20050403232743', 'archive_url': 'https://web.archive.org/web/20050403232743/http://rss.cnn.com/rss/cnn_latest.rss'}\n",
      "{'timestamp': '20050403232743', 'archive_url': 'https://web.archive.org/web/20050403232743/http://rss.cnn.com/rss/cnn_latest.rss'}\n",
      "{'timestamp': '20050407112433', 'archive_url': 'https://web.archive.org/web/20050407112433/http://rss.cnn.com/rss/cnn_latest.rss'}\n"
     ]
    }
   ],
   "source": [
    "url_to_check = \"http://rss.cnn.com/rss/cnn_latest.rss\"\n",
    "versions = fetch_wayback_versions(url_to_check, max_versions=5)\n",
    "for version in versions:\n",
    "    print(version)"
   ]
  },
  {
   "cell_type": "code",
   "execution_count": null,
   "metadata": {},
   "outputs": [],
   "source": []
  }
 ],
 "metadata": {
  "kernelspec": {
   "display_name": "WaybackMachine-BiQ6x-X5",
   "language": "python",
   "name": "python3"
  },
  "language_info": {
   "codemirror_mode": {
    "name": "ipython",
    "version": 3
   },
   "file_extension": ".py",
   "mimetype": "text/x-python",
   "name": "python",
   "nbconvert_exporter": "python",
   "pygments_lexer": "ipython3",
   "version": "3.12.0"
  }
 },
 "nbformat": 4,
 "nbformat_minor": 2
}
